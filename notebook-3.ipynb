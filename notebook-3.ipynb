{
 "cells": [
  {
   "cell_type": "markdown",
   "metadata": {},
   "source": [
    "# Python and R"
   ]
  },
  {
   "cell_type": "code",
   "execution_count": 3,
   "metadata": {},
   "outputs": [],
   "source": [
    "%load_ext rpy2.ipython\n",
    "%load_ext autoreload\n",
    "%autoreload 2\n",
    "\n",
    "%matplotlib inline  \n",
    "from matplotlib import rcParams\n",
    "rcParams['figure.figsize'] = (16, 100)\n",
    "\n",
    "import warnings\n",
    "from rpy2.rinterface import RRuntimeWarning\n",
    "warnings.filterwarnings(\"ignore\") # Ignore all warnings\n",
    "# warnings.filterwarnings(\"ignore\", category=RRuntimeWarning) # Show some warnings\n",
    "\n",
    "import pandas as pd\n",
    "import numpy as np\n",
    "import matplotlib.pyplot as plt\n",
    "from IPython.display import display, HTML\n",
    "\n",
    "# show all columns on pandas dataframes\n",
    "pd.set_option('display.max_columns', None)\n"
   ]
  },
  {
   "cell_type": "code",
   "execution_count": 4,
   "metadata": {},
   "outputs": [
    {
     "data": {
      "application/javascript": [
       "// Disable auto-scrolling\n",
       "IPython.OutputArea.prototype._should_scroll = function(lines) {\n",
       "    return false;\n",
       "}\n"
      ],
      "text/plain": [
       "<IPython.core.display.Javascript object>"
      ]
     },
     "metadata": {},
     "output_type": "display_data"
    }
   ],
   "source": [
    "%%javascript\n",
    "// Disable auto-scrolling\n",
    "IPython.OutputArea.prototype._should_scroll = function(lines) {\n",
    "    return false;\n",
    "}"
   ]
  },
  {
   "cell_type": "code",
   "execution_count": 5,
   "metadata": {},
   "outputs": [
    {
     "name": "stderr",
     "output_type": "stream",
     "text": [
      "R[write to console]: Loading required package: tidyverse\n",
      "\n"
     ]
    },
    {
     "name": "stdout",
     "output_type": "stream",
     "text": [
      "── Attaching packages ─────────────────────────────────────── tidyverse 1.3.2 ──\n",
      "✔ ggplot2 3.4.0      ✔ purrr   0.3.4 \n",
      "✔ tibble  3.1.8      ✔ dplyr   1.0.10\n",
      "✔ tidyr   1.2.0      ✔ stringr 1.4.1 \n",
      "✔ readr   2.1.3      ✔ forcats 0.5.2 \n",
      "── Conflicts ────────────────────────────────────────── tidyverse_conflicts() ──\n",
      "✖ dplyr::filter() masks stats::filter()\n",
      "✖ dplyr::lag()    masks stats::lag()\n"
     ]
    }
   ],
   "source": [
    "%%R\n",
    "\n",
    "# My commonly used R imports\n",
    "\n",
    "require('tidyverse')\n"
   ]
  },
  {
   "cell_type": "markdown",
   "metadata": {},
   "source": [
    "\n",
    "# Read the data\n",
    "\n"
   ]
  },
  {
   "cell_type": "markdown",
   "metadata": {},
   "source": [
    "The cell below loads the data in python:"
   ]
  },
  {
   "cell_type": "code",
   "execution_count": 6,
   "metadata": {},
   "outputs": [
    {
     "data": {
      "text/html": [
       "<div>\n",
       "<style scoped>\n",
       "    .dataframe tbody tr th:only-of-type {\n",
       "        vertical-align: middle;\n",
       "    }\n",
       "\n",
       "    .dataframe tbody tr th {\n",
       "        vertical-align: top;\n",
       "    }\n",
       "\n",
       "    .dataframe thead th {\n",
       "        text-align: right;\n",
       "    }\n",
       "</style>\n",
       "<table border=\"1\" class=\"dataframe\">\n",
       "  <thead>\n",
       "    <tr style=\"text-align: right;\">\n",
       "      <th></th>\n",
       "      <th>poll_id</th>\n",
       "      <th>question_id</th>\n",
       "      <th>race_id</th>\n",
       "      <th>year</th>\n",
       "      <th>race</th>\n",
       "      <th>location</th>\n",
       "      <th>type_simple</th>\n",
       "      <th>type_detail</th>\n",
       "      <th>pollster</th>\n",
       "      <th>pollster_rating_id</th>\n",
       "      <th>methodology</th>\n",
       "      <th>partisan</th>\n",
       "      <th>polldate</th>\n",
       "      <th>samplesize</th>\n",
       "      <th>cand1_name</th>\n",
       "      <th>cand1_id</th>\n",
       "      <th>cand1_party</th>\n",
       "      <th>cand1_pct</th>\n",
       "      <th>cand2_name</th>\n",
       "      <th>cand2_id</th>\n",
       "      <th>cand2_party</th>\n",
       "      <th>cand2_pct</th>\n",
       "      <th>cand3_pct</th>\n",
       "      <th>margin_poll</th>\n",
       "      <th>electiondate</th>\n",
       "      <th>cand1_actual</th>\n",
       "      <th>cand2_actual</th>\n",
       "      <th>margin_actual</th>\n",
       "      <th>bias</th>\n",
       "      <th>rightcall</th>\n",
       "      <th>comment</th>\n",
       "    </tr>\n",
       "  </thead>\n",
       "  <tbody>\n",
       "    <tr>\n",
       "      <th>9478</th>\n",
       "      <td>56795</td>\n",
       "      <td>91522</td>\n",
       "      <td>141</td>\n",
       "      <td>2018</td>\n",
       "      <td>2018_Gov-G_ID</td>\n",
       "      <td>ID</td>\n",
       "      <td>Gov-G</td>\n",
       "      <td>Gov-G</td>\n",
       "      <td>Change Research</td>\n",
       "      <td>48</td>\n",
       "      <td>Online</td>\n",
       "      <td>NaN</td>\n",
       "      <td>11/3/18</td>\n",
       "      <td>838.0</td>\n",
       "      <td>Paulette E. Jordan</td>\n",
       "      <td>11357</td>\n",
       "      <td>DEM</td>\n",
       "      <td>39.0</td>\n",
       "      <td>Brad Little</td>\n",
       "      <td>11358</td>\n",
       "      <td>REP</td>\n",
       "      <td>55.0</td>\n",
       "      <td>3.0</td>\n",
       "      <td>-16.0</td>\n",
       "      <td>11/6/18</td>\n",
       "      <td>38.19</td>\n",
       "      <td>59.77</td>\n",
       "      <td>-21.58</td>\n",
       "      <td>5.58</td>\n",
       "      <td>1.0</td>\n",
       "      <td>NaN</td>\n",
       "    </tr>\n",
       "    <tr>\n",
       "      <th>474</th>\n",
       "      <td>6474</td>\n",
       "      <td>7943</td>\n",
       "      <td>836</td>\n",
       "      <td>2000</td>\n",
       "      <td>2000_Pres-G_NH</td>\n",
       "      <td>NH</td>\n",
       "      <td>Pres-G</td>\n",
       "      <td>Pres-G</td>\n",
       "      <td>Research 2000</td>\n",
       "      <td>281</td>\n",
       "      <td>Live Phone</td>\n",
       "      <td>NaN</td>\n",
       "      <td>10/17/00</td>\n",
       "      <td>603.0</td>\n",
       "      <td>Al Gore</td>\n",
       "      <td>222</td>\n",
       "      <td>DEM</td>\n",
       "      <td>44.0</td>\n",
       "      <td>George W. Bush</td>\n",
       "      <td>241</td>\n",
       "      <td>REP</td>\n",
       "      <td>41.0</td>\n",
       "      <td>1.0</td>\n",
       "      <td>3.0</td>\n",
       "      <td>11/7/00</td>\n",
       "      <td>46.80</td>\n",
       "      <td>48.07</td>\n",
       "      <td>-1.27</td>\n",
       "      <td>4.27</td>\n",
       "      <td>0.0</td>\n",
       "      <td>NaN</td>\n",
       "    </tr>\n",
       "    <tr>\n",
       "      <th>913</th>\n",
       "      <td>54524</td>\n",
       "      <td>117321</td>\n",
       "      <td>853</td>\n",
       "      <td>2000</td>\n",
       "      <td>2000_Pres-G_WA</td>\n",
       "      <td>WA</td>\n",
       "      <td>Pres-G</td>\n",
       "      <td>Pres-G</td>\n",
       "      <td>SurveyUSA</td>\n",
       "      <td>325</td>\n",
       "      <td>IVR</td>\n",
       "      <td>NaN</td>\n",
       "      <td>11/1/00</td>\n",
       "      <td>500.0</td>\n",
       "      <td>Al Gore</td>\n",
       "      <td>222</td>\n",
       "      <td>DEM</td>\n",
       "      <td>46.0</td>\n",
       "      <td>George W. Bush</td>\n",
       "      <td>241</td>\n",
       "      <td>REP</td>\n",
       "      <td>44.0</td>\n",
       "      <td>8.0</td>\n",
       "      <td>2.0</td>\n",
       "      <td>11/7/00</td>\n",
       "      <td>50.16</td>\n",
       "      <td>44.58</td>\n",
       "      <td>5.58</td>\n",
       "      <td>-3.58</td>\n",
       "      <td>1.0</td>\n",
       "      <td>NaN</td>\n",
       "    </tr>\n",
       "    <tr>\n",
       "      <th>7834</th>\n",
       "      <td>36621</td>\n",
       "      <td>50264</td>\n",
       "      <td>7621</td>\n",
       "      <td>2016</td>\n",
       "      <td>2016_Pres-D_AZ</td>\n",
       "      <td>AZ</td>\n",
       "      <td>Pres-P</td>\n",
       "      <td>Pres-D</td>\n",
       "      <td>Merrill Poll</td>\n",
       "      <td>206</td>\n",
       "      <td>Live Phone</td>\n",
       "      <td>NaN</td>\n",
       "      <td>3/9/16</td>\n",
       "      <td>300.0</td>\n",
       "      <td>Hillary Rodham Clinton</td>\n",
       "      <td>9207</td>\n",
       "      <td>DEM</td>\n",
       "      <td>50.0</td>\n",
       "      <td>Bernard Sanders</td>\n",
       "      <td>9739</td>\n",
       "      <td>DEM</td>\n",
       "      <td>24.0</td>\n",
       "      <td>NaN</td>\n",
       "      <td>26.0</td>\n",
       "      <td>3/22/16</td>\n",
       "      <td>56.29</td>\n",
       "      <td>41.39</td>\n",
       "      <td>14.91</td>\n",
       "      <td>NaN</td>\n",
       "      <td>1.0</td>\n",
       "      <td>for Arizona State</td>\n",
       "    </tr>\n",
       "    <tr>\n",
       "      <th>473</th>\n",
       "      <td>6473</td>\n",
       "      <td>7942</td>\n",
       "      <td>820</td>\n",
       "      <td>2000</td>\n",
       "      <td>2000_Pres-G_IL</td>\n",
       "      <td>IL</td>\n",
       "      <td>Pres-G</td>\n",
       "      <td>Pres-G</td>\n",
       "      <td>Research 2000</td>\n",
       "      <td>281</td>\n",
       "      <td>Live Phone</td>\n",
       "      <td>NaN</td>\n",
       "      <td>10/17/00</td>\n",
       "      <td>601.0</td>\n",
       "      <td>Al Gore</td>\n",
       "      <td>222</td>\n",
       "      <td>DEM</td>\n",
       "      <td>47.0</td>\n",
       "      <td>George W. Bush</td>\n",
       "      <td>241</td>\n",
       "      <td>REP</td>\n",
       "      <td>40.0</td>\n",
       "      <td>3.0</td>\n",
       "      <td>7.0</td>\n",
       "      <td>11/7/00</td>\n",
       "      <td>54.60</td>\n",
       "      <td>42.58</td>\n",
       "      <td>12.01</td>\n",
       "      <td>-5.01</td>\n",
       "      <td>1.0</td>\n",
       "      <td>NaN</td>\n",
       "    </tr>\n",
       "  </tbody>\n",
       "</table>\n",
       "</div>"
      ],
      "text/plain": [
       "      poll_id  question_id  race_id  year            race location  \\\n",
       "9478    56795        91522      141  2018   2018_Gov-G_ID       ID   \n",
       "474      6474         7943      836  2000  2000_Pres-G_NH       NH   \n",
       "913     54524       117321      853  2000  2000_Pres-G_WA       WA   \n",
       "7834    36621        50264     7621  2016  2016_Pres-D_AZ       AZ   \n",
       "473      6473         7942      820  2000  2000_Pres-G_IL       IL   \n",
       "\n",
       "     type_simple type_detail         pollster  pollster_rating_id methodology  \\\n",
       "9478       Gov-G       Gov-G  Change Research                  48      Online   \n",
       "474       Pres-G      Pres-G    Research 2000                 281  Live Phone   \n",
       "913       Pres-G      Pres-G        SurveyUSA                 325         IVR   \n",
       "7834      Pres-P      Pres-D     Merrill Poll                 206  Live Phone   \n",
       "473       Pres-G      Pres-G    Research 2000                 281  Live Phone   \n",
       "\n",
       "     partisan  polldate  samplesize              cand1_name  cand1_id  \\\n",
       "9478      NaN   11/3/18       838.0      Paulette E. Jordan     11357   \n",
       "474       NaN  10/17/00       603.0                 Al Gore       222   \n",
       "913       NaN   11/1/00       500.0                 Al Gore       222   \n",
       "7834      NaN    3/9/16       300.0  Hillary Rodham Clinton      9207   \n",
       "473       NaN  10/17/00       601.0                 Al Gore       222   \n",
       "\n",
       "     cand1_party  cand1_pct       cand2_name  cand2_id cand2_party  cand2_pct  \\\n",
       "9478         DEM       39.0      Brad Little     11358         REP       55.0   \n",
       "474          DEM       44.0   George W. Bush       241         REP       41.0   \n",
       "913          DEM       46.0   George W. Bush       241         REP       44.0   \n",
       "7834         DEM       50.0  Bernard Sanders      9739         DEM       24.0   \n",
       "473          DEM       47.0   George W. Bush       241         REP       40.0   \n",
       "\n",
       "      cand3_pct  margin_poll electiondate  cand1_actual  cand2_actual  \\\n",
       "9478        3.0        -16.0      11/6/18         38.19         59.77   \n",
       "474         1.0          3.0      11/7/00         46.80         48.07   \n",
       "913         8.0          2.0      11/7/00         50.16         44.58   \n",
       "7834        NaN         26.0      3/22/16         56.29         41.39   \n",
       "473         3.0          7.0      11/7/00         54.60         42.58   \n",
       "\n",
       "      margin_actual  bias  rightcall            comment  \n",
       "9478         -21.58  5.58        1.0                NaN  \n",
       "474           -1.27  4.27        0.0                NaN  \n",
       "913            5.58 -3.58        1.0                NaN  \n",
       "7834          14.91   NaN        1.0  for Arizona State  \n",
       "473           12.01 -5.01        1.0                NaN  "
      ]
     },
     "execution_count": 6,
     "metadata": {},
     "output_type": "execute_result"
    }
   ],
   "source": [
    "df = pd.read_csv('raw-polls.csv')\n",
    "df.sample(5)"
   ]
  },
  {
   "cell_type": "markdown",
   "metadata": {},
   "source": [
    "The cell below loads the same data in R:"
   ]
  },
  {
   "cell_type": "code",
   "execution_count": 7,
   "metadata": {},
   "outputs": [
    {
     "name": "stdout",
     "output_type": "stream",
     "text": [
      "Rows: 10776 Columns: 31\n",
      "── Column specification ────────────────────────────────────────────────────────\n",
      "Delimiter: \",\"\n",
      "chr (14): race, location, type_simple, type_detail, pollster, methodology, p...\n",
      "dbl (17): poll_id, question_id, race_id, year, pollster_rating_id, samplesiz...\n",
      "\n",
      "ℹ Use `spec()` to retrieve the full column specification for this data.\n",
      "ℹ Specify the column types or set `show_col_types = FALSE` to quiet this message.\n",
      "# A tibble: 10,776 × 31\n",
      "   poll_id questio…¹ race_id  year race  locat…² type_…³ type_…⁴ polls…⁵ polls…⁶\n",
      "     <dbl>     <dbl>   <dbl> <dbl> <chr> <chr>   <chr>   <chr>   <chr>     <dbl>\n",
      " 1   26013     87909    1455  1998 1998… NY      Gov-G   Gov-G   Blum &…      32\n",
      " 2   26255     87926    1456  1998 1998… OH      Gov-G   Gov-G   Univer…     346\n",
      " 3   26026     31266    1736  1998 1998… NV      Sen-G   Sen-G   FM3 Re…      91\n",
      " 4   26013     31253    1738  1998 1998… NY      Sen-G   Sen-G   Blum &…      32\n",
      " 5   63632    117103    1738  1998 1998… NY      Sen-G   Sen-G   Garin-…     113\n",
      " 6   26255     31495    1741  1998 1998… OH      Sen-G   Sen-G   Univer…     346\n",
      " 7   64053    117875    1966  1998 1998… ID-1    House-G House-G Garin-…     113\n",
      " 8   64053    117876    1967  1998 1998… ID-2    House-G House-G Garin-…     113\n",
      " 9   28268     33546    8661  1998 1998… US      House-G House-G CBS Ne…      36\n",
      "10   28267     33545    8661  1998 1998… US      House-G House-G Zogby …     395\n",
      "# … with 10,766 more rows, 21 more variables: methodology <chr>,\n",
      "#   partisan <chr>, polldate <chr>, samplesize <dbl>, cand1_name <chr>,\n",
      "#   cand1_id <dbl>, cand1_party <chr>, cand1_pct <dbl>, cand2_name <chr>,\n",
      "#   cand2_id <dbl>, cand2_party <chr>, cand2_pct <dbl>, cand3_pct <dbl>,\n",
      "#   margin_poll <dbl>, electiondate <chr>, cand1_actual <dbl>,\n",
      "#   cand2_actual <dbl>, margin_actual <dbl>, bias <dbl>, rightcall <dbl>,\n",
      "#   comment <chr>, and abbreviated variable names ¹​question_id, ²​location, …\n",
      "# ℹ Use `print(n = ...)` to see more rows, and `colnames()` to see all variable names\n"
     ]
    }
   ],
   "source": [
    "%%R\n",
    "\n",
    "df <- read_csv('raw-polls.csv')\n",
    "\n",
    "df"
   ]
  },
  {
   "cell_type": "markdown",
   "metadata": {},
   "source": [
    "# Guided Exploration\n",
    "\n",
    "In this section you'll make a few charts to explore the data. Here I will raise some questions for you to dig around in the data and answer. You can use summary statistics and/or charts to help answer the questions. You will have to make some methodological choices along the way. Be aware of what choices you're making! I'll ask you about them shortly.\n",
    "\n",
    "\n",
    "## Question 1: How accurate are polls from the following pollsters?\n",
    "Characterize the accuracy of each of these pollsters in a sentence or two. Then, write another few sentences justifying your characterization with insights from the data.\n",
    "- Siena College/The New York Times Upshot\n",
    "- Jayhawk Consulting\n",
    "- Fox News/Beacon Research/Shaw & Co. Research\n",
    "- Brown University\n",
    "- American Research Group\n"
   ]
  },
  {
   "cell_type": "code",
   "execution_count": 48,
   "metadata": {},
   "outputs": [],
   "source": [
    "%%R\n",
    "\n",
    "abs(df$bias) %>% summary()\n",
    "\n",
    "df_G <- df %>% \n",
    "    filter(type_simple %in% c('Pres-G', 'Sen-G', 'House-G', 'Gov-G'))"
   ]
  },
  {
   "cell_type": "markdown",
   "metadata": {},
   "source": [
    "👉 **Siena College/The New York Times Upshot** "
   ]
  },
  {
   "cell_type": "code",
   "execution_count": 19,
   "metadata": {
    "scrolled": false
   },
   "outputs": [
    {
     "name": "stdout",
     "output_type": "stream",
     "text": [
      "   Min. 1st Qu.  Median    Mean 3rd Qu.    Max.    NA's \n",
      "  0.000   1.907   4.070   4.362   5.885  15.010       1 \n"
     ]
    }
   ],
   "source": [
    "%%R\n",
    "\n",
    "siena <- df %>% \n",
    "    filter(pollster=='Siena College/The New York Times Upshot')\n",
    "abs(siena$bias) %>% summary()"
   ]
  },
  {
   "cell_type": "markdown",
   "metadata": {},
   "source": [
    "👉 **Jayhawk Consulting**"
   ]
  },
  {
   "cell_type": "code",
   "execution_count": 24,
   "metadata": {},
   "outputs": [
    {
     "name": "stdout",
     "output_type": "stream",
     "text": [
      "   Min. 1st Qu.  Median    Mean 3rd Qu.    Max. \n",
      "  32.29   34.95   37.62   37.62   40.28   42.94 \n"
     ]
    }
   ],
   "source": [
    "%%R\n",
    "\n",
    "jayhawk <- df %>% \n",
    "    filter(pollster=='Jayhawk Consulting Services')\n",
    "\n",
    "abs(jayhawk$bias) %>% summary()"
   ]
  },
  {
   "cell_type": "code",
   "execution_count": null,
   "metadata": {},
   "outputs": [],
   "source": []
  },
  {
   "cell_type": "markdown",
   "metadata": {},
   "source": [
    "👉 **Fox News/Beacon Research/Shaw & Co. Research**"
   ]
  },
  {
   "cell_type": "code",
   "execution_count": 25,
   "metadata": {},
   "outputs": [
    {
     "name": "stdout",
     "output_type": "stream",
     "text": [
      "   Min. 1st Qu.  Median    Mean 3rd Qu.    Max.    NA's \n",
      "  0.020   2.120   3.880   4.751   6.090  15.610      15 \n"
     ]
    }
   ],
   "source": [
    "%%R\n",
    "\n",
    "fox <- df %>% \n",
    "    filter(pollster=='Fox News/Beacon Research/Shaw & Co. Research')\n",
    "\n",
    "abs(fox$bias) %>% summary()"
   ]
  },
  {
   "cell_type": "code",
   "execution_count": null,
   "metadata": {},
   "outputs": [],
   "source": []
  },
  {
   "cell_type": "markdown",
   "metadata": {},
   "source": [
    "👉 **Brown University**"
   ]
  },
  {
   "cell_type": "code",
   "execution_count": 26,
   "metadata": {},
   "outputs": [
    {
     "name": "stdout",
     "output_type": "stream",
     "text": [
      "   Min. 1st Qu.  Median    Mean 3rd Qu.    Max.    NA's \n",
      "  3.870   6.100   8.270   8.827  10.465  16.520       5 \n"
     ]
    }
   ],
   "source": [
    "%%R\n",
    "\n",
    "brown <- df %>% \n",
    "    filter(pollster=='Brown University')\n",
    "\n",
    "abs(brown$bias) %>% summary()"
   ]
  },
  {
   "cell_type": "code",
   "execution_count": null,
   "metadata": {},
   "outputs": [],
   "source": []
  },
  {
   "cell_type": "markdown",
   "metadata": {},
   "source": [
    "👉 **American Research Group**"
   ]
  },
  {
   "cell_type": "code",
   "execution_count": 27,
   "metadata": {},
   "outputs": [
    {
     "name": "stdout",
     "output_type": "stream",
     "text": [
      "   Min. 1st Qu.  Median    Mean 3rd Qu.    Max.    NA's \n",
      "  0.130   1.738   3.425   4.245   5.652  26.760     191 \n"
     ]
    }
   ],
   "source": [
    "%%R\n",
    "\n",
    "arg <- df %>% \n",
    "    filter(pollster=='American Research Group')\n",
    "\n",
    "abs(arg$bias) %>% summary()"
   ]
  },
  {
   "cell_type": "code",
   "execution_count": null,
   "metadata": {},
   "outputs": [],
   "source": []
  },
  {
   "cell_type": "markdown",
   "metadata": {},
   "source": [
    "### Question 2: Which pollsters are the most accurate? Which are the least accurate?"
   ]
  },
  {
   "cell_type": "markdown",
   "metadata": {},
   "source": [
    "👉 Which pollsters are the most accurate?"
   ]
  },
  {
   "cell_type": "code",
   "execution_count": 29,
   "metadata": {},
   "outputs": [
    {
     "data": {
      "text/html": [
       "<div>\n",
       "<style scoped>\n",
       "    .dataframe tbody tr th:only-of-type {\n",
       "        vertical-align: middle;\n",
       "    }\n",
       "\n",
       "    .dataframe tbody tr th {\n",
       "        vertical-align: top;\n",
       "    }\n",
       "\n",
       "    .dataframe thead th {\n",
       "        text-align: right;\n",
       "    }\n",
       "</style>\n",
       "<table border=\"1\" class=\"dataframe\">\n",
       "  <thead>\n",
       "    <tr style=\"text-align: right;\">\n",
       "      <th></th>\n",
       "      <th>poll_id</th>\n",
       "      <th>question_id</th>\n",
       "      <th>race_id</th>\n",
       "      <th>year</th>\n",
       "      <th>race</th>\n",
       "      <th>location</th>\n",
       "      <th>type_simple</th>\n",
       "      <th>type_detail</th>\n",
       "      <th>pollster</th>\n",
       "      <th>pollster_rating_id</th>\n",
       "      <th>methodology</th>\n",
       "      <th>partisan</th>\n",
       "      <th>polldate</th>\n",
       "      <th>samplesize</th>\n",
       "      <th>cand1_name</th>\n",
       "      <th>cand1_id</th>\n",
       "      <th>cand1_party</th>\n",
       "      <th>cand1_pct</th>\n",
       "      <th>cand2_name</th>\n",
       "      <th>cand2_id</th>\n",
       "      <th>cand2_party</th>\n",
       "      <th>cand2_pct</th>\n",
       "      <th>cand3_pct</th>\n",
       "      <th>margin_poll</th>\n",
       "      <th>electiondate</th>\n",
       "      <th>cand1_actual</th>\n",
       "      <th>cand2_actual</th>\n",
       "      <th>margin_actual</th>\n",
       "      <th>bias</th>\n",
       "      <th>rightcall</th>\n",
       "      <th>comment</th>\n",
       "    </tr>\n",
       "  </thead>\n",
       "  <tbody>\n",
       "    <tr>\n",
       "      <th>0</th>\n",
       "      <td>26013</td>\n",
       "      <td>87909</td>\n",
       "      <td>1455</td>\n",
       "      <td>1998</td>\n",
       "      <td>1998_Gov-G_NY</td>\n",
       "      <td>NY</td>\n",
       "      <td>Gov-G</td>\n",
       "      <td>Gov-G</td>\n",
       "      <td>Blum &amp; Weprin Associates</td>\n",
       "      <td>32</td>\n",
       "      <td>Live Phone</td>\n",
       "      <td>NaN</td>\n",
       "      <td>10/13/98</td>\n",
       "      <td>364.0</td>\n",
       "      <td>Peter Vallone</td>\n",
       "      <td>13080</td>\n",
       "      <td>DEM</td>\n",
       "      <td>26.0</td>\n",
       "      <td>George Pataki</td>\n",
       "      <td>13083</td>\n",
       "      <td>REP</td>\n",
       "      <td>57.0</td>\n",
       "      <td>9.0</td>\n",
       "      <td>-31.0</td>\n",
       "      <td>11/3/98</td>\n",
       "      <td>33.16</td>\n",
       "      <td>54.32</td>\n",
       "      <td>-21.15</td>\n",
       "      <td>-9.85</td>\n",
       "      <td>1.0</td>\n",
       "      <td>for New York Daily News | WABC-TV (New York)</td>\n",
       "    </tr>\n",
       "    <tr>\n",
       "      <th>1</th>\n",
       "      <td>26255</td>\n",
       "      <td>87926</td>\n",
       "      <td>1456</td>\n",
       "      <td>1998</td>\n",
       "      <td>1998_Gov-G_OH</td>\n",
       "      <td>OH</td>\n",
       "      <td>Gov-G</td>\n",
       "      <td>Gov-G</td>\n",
       "      <td>University of Cincinnati (Ohio Poll)</td>\n",
       "      <td>346</td>\n",
       "      <td>Live Phone</td>\n",
       "      <td>NaN</td>\n",
       "      <td>10/13/98</td>\n",
       "      <td>540.0</td>\n",
       "      <td>Lee Fisher</td>\n",
       "      <td>13085</td>\n",
       "      <td>DEM</td>\n",
       "      <td>37.0</td>\n",
       "      <td>Bob Taft</td>\n",
       "      <td>13086</td>\n",
       "      <td>REP</td>\n",
       "      <td>52.0</td>\n",
       "      <td>NaN</td>\n",
       "      <td>-15.0</td>\n",
       "      <td>11/3/98</td>\n",
       "      <td>44.69</td>\n",
       "      <td>50.05</td>\n",
       "      <td>-5.36</td>\n",
       "      <td>-9.64</td>\n",
       "      <td>1.0</td>\n",
       "      <td>NaN</td>\n",
       "    </tr>\n",
       "    <tr>\n",
       "      <th>2</th>\n",
       "      <td>26026</td>\n",
       "      <td>31266</td>\n",
       "      <td>1736</td>\n",
       "      <td>1998</td>\n",
       "      <td>1998_Sen-G_NV</td>\n",
       "      <td>NV</td>\n",
       "      <td>Sen-G</td>\n",
       "      <td>Sen-G</td>\n",
       "      <td>FM3 Research</td>\n",
       "      <td>91</td>\n",
       "      <td>Live Phone</td>\n",
       "      <td>D</td>\n",
       "      <td>10/13/98</td>\n",
       "      <td>488.0</td>\n",
       "      <td>Harry Reid</td>\n",
       "      <td>3964</td>\n",
       "      <td>DEM</td>\n",
       "      <td>49.0</td>\n",
       "      <td>John Ensign</td>\n",
       "      <td>3965</td>\n",
       "      <td>REP</td>\n",
       "      <td>44.0</td>\n",
       "      <td>NaN</td>\n",
       "      <td>5.0</td>\n",
       "      <td>11/3/98</td>\n",
       "      <td>47.86</td>\n",
       "      <td>47.77</td>\n",
       "      <td>0.09</td>\n",
       "      <td>4.91</td>\n",
       "      <td>1.0</td>\n",
       "      <td>for unspecified Democratic sponsor</td>\n",
       "    </tr>\n",
       "    <tr>\n",
       "      <th>3</th>\n",
       "      <td>26013</td>\n",
       "      <td>31253</td>\n",
       "      <td>1738</td>\n",
       "      <td>1998</td>\n",
       "      <td>1998_Sen-G_NY</td>\n",
       "      <td>NY</td>\n",
       "      <td>Sen-G</td>\n",
       "      <td>Sen-G</td>\n",
       "      <td>Blum &amp; Weprin Associates</td>\n",
       "      <td>32</td>\n",
       "      <td>Live Phone</td>\n",
       "      <td>NaN</td>\n",
       "      <td>10/13/98</td>\n",
       "      <td>364.0</td>\n",
       "      <td>Charles E. Schumer</td>\n",
       "      <td>3966</td>\n",
       "      <td>DEM</td>\n",
       "      <td>44.0</td>\n",
       "      <td>Alfonse M. D'Amato</td>\n",
       "      <td>3967</td>\n",
       "      <td>REP</td>\n",
       "      <td>52.0</td>\n",
       "      <td>NaN</td>\n",
       "      <td>-8.0</td>\n",
       "      <td>11/3/98</td>\n",
       "      <td>54.62</td>\n",
       "      <td>44.08</td>\n",
       "      <td>10.54</td>\n",
       "      <td>-18.54</td>\n",
       "      <td>0.0</td>\n",
       "      <td>for New York Daily News | WABC-TV (New York)</td>\n",
       "    </tr>\n",
       "    <tr>\n",
       "      <th>4</th>\n",
       "      <td>63632</td>\n",
       "      <td>117103</td>\n",
       "      <td>1738</td>\n",
       "      <td>1998</td>\n",
       "      <td>1998_Sen-G_NY</td>\n",
       "      <td>NY</td>\n",
       "      <td>Sen-G</td>\n",
       "      <td>Sen-G</td>\n",
       "      <td>Garin-Hart-Yang Research Group</td>\n",
       "      <td>113</td>\n",
       "      <td>Live Phone</td>\n",
       "      <td>D</td>\n",
       "      <td>10/13/98</td>\n",
       "      <td>902.0</td>\n",
       "      <td>Charles E. Schumer</td>\n",
       "      <td>3966</td>\n",
       "      <td>DEM</td>\n",
       "      <td>46.0</td>\n",
       "      <td>Alfonse M. D'Amato</td>\n",
       "      <td>3967</td>\n",
       "      <td>REP</td>\n",
       "      <td>42.0</td>\n",
       "      <td>NaN</td>\n",
       "      <td>4.0</td>\n",
       "      <td>11/3/98</td>\n",
       "      <td>54.62</td>\n",
       "      <td>44.08</td>\n",
       "      <td>10.54</td>\n",
       "      <td>-6.54</td>\n",
       "      <td>1.0</td>\n",
       "      <td>for Charles E. Schumer</td>\n",
       "    </tr>\n",
       "  </tbody>\n",
       "</table>\n",
       "</div>"
      ],
      "text/plain": [
       "   poll_id  question_id  race_id  year           race location type_simple  \\\n",
       "0    26013        87909     1455  1998  1998_Gov-G_NY       NY       Gov-G   \n",
       "1    26255        87926     1456  1998  1998_Gov-G_OH       OH       Gov-G   \n",
       "2    26026        31266     1736  1998  1998_Sen-G_NV       NV       Sen-G   \n",
       "3    26013        31253     1738  1998  1998_Sen-G_NY       NY       Sen-G   \n",
       "4    63632       117103     1738  1998  1998_Sen-G_NY       NY       Sen-G   \n",
       "\n",
       "  type_detail                              pollster  pollster_rating_id  \\\n",
       "0       Gov-G              Blum & Weprin Associates                  32   \n",
       "1       Gov-G  University of Cincinnati (Ohio Poll)                 346   \n",
       "2       Sen-G                          FM3 Research                  91   \n",
       "3       Sen-G              Blum & Weprin Associates                  32   \n",
       "4       Sen-G        Garin-Hart-Yang Research Group                 113   \n",
       "\n",
       "  methodology partisan  polldate  samplesize          cand1_name  cand1_id  \\\n",
       "0  Live Phone      NaN  10/13/98       364.0       Peter Vallone     13080   \n",
       "1  Live Phone      NaN  10/13/98       540.0          Lee Fisher     13085   \n",
       "2  Live Phone        D  10/13/98       488.0          Harry Reid      3964   \n",
       "3  Live Phone      NaN  10/13/98       364.0  Charles E. Schumer      3966   \n",
       "4  Live Phone        D  10/13/98       902.0  Charles E. Schumer      3966   \n",
       "\n",
       "  cand1_party  cand1_pct          cand2_name  cand2_id cand2_party  cand2_pct  \\\n",
       "0         DEM       26.0       George Pataki     13083         REP       57.0   \n",
       "1         DEM       37.0            Bob Taft     13086         REP       52.0   \n",
       "2         DEM       49.0         John Ensign      3965         REP       44.0   \n",
       "3         DEM       44.0  Alfonse M. D'Amato      3967         REP       52.0   \n",
       "4         DEM       46.0  Alfonse M. D'Amato      3967         REP       42.0   \n",
       "\n",
       "   cand3_pct  margin_poll electiondate  cand1_actual  cand2_actual  \\\n",
       "0        9.0        -31.0      11/3/98         33.16         54.32   \n",
       "1        NaN        -15.0      11/3/98         44.69         50.05   \n",
       "2        NaN          5.0      11/3/98         47.86         47.77   \n",
       "3        NaN         -8.0      11/3/98         54.62         44.08   \n",
       "4        NaN          4.0      11/3/98         54.62         44.08   \n",
       "\n",
       "   margin_actual   bias  rightcall  \\\n",
       "0         -21.15  -9.85        1.0   \n",
       "1          -5.36  -9.64        1.0   \n",
       "2           0.09   4.91        1.0   \n",
       "3          10.54 -18.54        0.0   \n",
       "4          10.54  -6.54        1.0   \n",
       "\n",
       "                                        comment  \n",
       "0  for New York Daily News | WABC-TV (New York)  \n",
       "1                                           NaN  \n",
       "2            for unspecified Democratic sponsor  \n",
       "3  for New York Daily News | WABC-TV (New York)  \n",
       "4                        for Charles E. Schumer  "
      ]
     },
     "execution_count": 29,
     "metadata": {},
     "output_type": "execute_result"
    }
   ],
   "source": [
    "df.head()"
   ]
  },
  {
   "cell_type": "code",
   "execution_count": 34,
   "metadata": {},
   "outputs": [],
   "source": [
    "df['bias_abs'] = df.bias.abs()"
   ]
  },
  {
   "cell_type": "code",
   "execution_count": 45,
   "metadata": {},
   "outputs": [
    {
     "data": {
      "text/plain": [
       "pollster\n",
       "Winthrop University                   0.18\n",
       "Amber Integrated                      0.38\n",
       "Missouri State University             0.50\n",
       "1892 Polling                          0.61\n",
       "Ogden & Fry                           0.65\n",
       "Saint Anselm College                  0.65\n",
       "Mercyhurst University                 0.74\n",
       "Singularis Group                      0.80\n",
       "Public Religion Research Institute    0.86\n",
       "Louis Harris & Associates             0.86\n",
       "Name: bias_abs, dtype: float64"
      ]
     },
     "execution_count": 45,
     "metadata": {},
     "output_type": "execute_result"
    }
   ],
   "source": [
    "df.groupby('pollster').bias_abs.median().sort_values().head(10)"
   ]
  },
  {
   "cell_type": "markdown",
   "metadata": {},
   "source": [
    "👉 Which are the least accurate?"
   ]
  },
  {
   "cell_type": "code",
   "execution_count": 47,
   "metadata": {},
   "outputs": [
    {
     "data": {
      "text/plain": [
       "pollster\n",
       "GOP Calls                                                                   21.040\n",
       "Bainbridge Media Group                                                      21.180\n",
       "Dane & Associates                                                           21.300\n",
       "Massie & Associates                                                         23.980\n",
       "Riggs Research Services                                                     33.650\n",
       "Jayhawk Consulting Services                                                 37.615\n",
       "Alabama State University                                                       NaN\n",
       "Baruch College                                                                 NaN\n",
       "Beacon Research                                                                NaN\n",
       "CPEC                                                                           NaN\n",
       "Canisius College                                                               NaN\n",
       "Castleton University                                                           NaN\n",
       "Concord Public Opinion Partners                                                NaN\n",
       "Constituent Dynamics                                                           NaN\n",
       "Dartmouth College                                                              NaN\n",
       "Douglas Fulmer & Associates                                                    NaN\n",
       "Dynata                                                                         NaN\n",
       "El Nuevo Día/The Research Office                                               NaN\n",
       "Elucd                                                                          NaN\n",
       "GCR & Associates                                                               NaN\n",
       "IVR Polls                                                                      NaN\n",
       "Indiana University-Purdue University Fort Wayne                                NaN\n",
       "Iowa State University                                                          NaN\n",
       "Jorge Benítez                                                                  NaN\n",
       "Lester & Associates                                                            NaN\n",
       "Liberty Opinion Research                                                       NaN\n",
       "Master Image                                                                   NaN\n",
       "Merrill Poll                                                                   NaN\n",
       "Morningside College                                                            NaN\n",
       "New Frontier Strategy                                                          NaN\n",
       "New Mexico State University                                                    NaN\n",
       "OurProgress (The Progress Campaign)                                            NaN\n",
       "Overtime Politics                                                              NaN\n",
       "Park Street Strategies                                                         NaN\n",
       "Pasquines                                                                      NaN\n",
       "Personal Marketing Research                                                    NaN\n",
       "Point Blank Political                                                          NaN\n",
       "Public Opinion Strategies/Hamilton Campaigns (Texas Credit Union League)       NaN\n",
       "Public Strategies Inc.                                                         NaN\n",
       "QEV Analytics                                                                  NaN\n",
       "R.L. Repass & Partners                                                         NaN\n",
       "ROI Rocket                                                                     NaN\n",
       "Schapiro Group                                                                 NaN\n",
       "TargetPoint                                                                    NaN\n",
       "Targeted Persuasion                                                            NaN\n",
       "TeleResearch Corporation                                                       NaN\n",
       "University of Houston                                                          NaN\n",
       "University of Nevada, Las Vegas                                                NaN\n",
       "Vox Populi Communications                                                      NaN\n",
       "War Room Logistics                                                             NaN\n",
       "Name: bias_abs, dtype: float64"
      ]
     },
     "execution_count": 47,
     "metadata": {},
     "output_type": "execute_result"
    }
   ],
   "source": [
    "df.groupby('pollster').bias_abs.median().sort_values().tail(50)"
   ]
  },
  {
   "cell_type": "markdown",
   "metadata": {},
   "source": [
    "### Question 2 Reflections"
   ]
  },
  {
   "cell_type": "markdown",
   "metadata": {},
   "source": [
    "👉 Write a summary paragraph explaining how you decided what constitutes “most accurate” and \"least accurate\"?\n"
   ]
  },
  {
   "cell_type": "markdown",
   "metadata": {},
   "source": [
    "The most accurate pollster is, based on all of their polls, has the smallest median value that diverges "
   ]
  },
  {
   "cell_type": "markdown",
   "metadata": {},
   "source": [
    "👉 In bullet point form, name **methodological choices** you made in the process of determining which pollsters were the most and least accurate.\n"
   ]
  },
  {
   "cell_type": "code",
   "execution_count": null,
   "metadata": {},
   "outputs": [],
   "source": []
  },
  {
   "cell_type": "markdown",
   "metadata": {},
   "source": [
    "👉 In bullet point form, list the **limitations** of your approach \n"
   ]
  },
  {
   "cell_type": "code",
   "execution_count": null,
   "metadata": {},
   "outputs": [],
   "source": []
  }
 ],
 "metadata": {
  "kernelspec": {
   "display_name": "Python 3 (ipykernel)",
   "language": "python",
   "name": "python3"
  },
  "language_info": {
   "codemirror_mode": {
    "name": "ipython",
    "version": 3
   },
   "file_extension": ".py",
   "mimetype": "text/x-python",
   "name": "python",
   "nbconvert_exporter": "python",
   "pygments_lexer": "ipython3",
   "version": "3.11.0rc2"
  },
  "vscode": {
   "interpreter": {
    "hash": "34166945ca6cc351f9d38b360afe1a928411c84fd696a9e2d08d61ef3f7e4692"
   }
  }
 },
 "nbformat": 4,
 "nbformat_minor": 4
}
